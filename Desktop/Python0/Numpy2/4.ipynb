{
 "cells": [
  {
   "cell_type": "code",
   "execution_count": 5,
   "metadata": {},
   "outputs": [
    {
     "name": "stdout",
     "output_type": "stream",
     "text": [
      "origial array\n",
      "[[ 0  1  2]\n",
      " [ 3  4  5]\n",
      " [ 6  7  8]\n",
      " [ 9 10 11]]\n",
      "After swapping \n",
      "[[ 1  0  2]\n",
      " [ 4  3  5]\n",
      " [ 7  6  8]\n",
      " [10  9 11]]\n",
      "the multiplication of [1 2 3 4] and [5 4 3 2] is \n",
      "[5 8 9 8]\n",
      "Original array\n",
      "[1 2 3 4]\n",
      "After adding 3 to [1 2 3 4] it becomes \n",
      "[4 5 6 7]\n"
     ]
    }
   ],
   "source": [
    "# swapping numbers with user choice \n",
    "\n",
    "import numpy as np\n",
    "\n",
    "myarr = np.arange(12).reshape(4,3)\n",
    "print(\"origial array\")\n",
    "print(myarr)\n",
    "\n",
    "def swap(arr,start,last):\n",
    "\n",
    "    arr[:,[start,last]] =  arr[:,[last,start]]\n",
    "\n",
    "swap(myarr,0,1)\n",
    "print(\"After swapping \")\n",
    "\n",
    "print(myarr)\n",
    "\n",
    "# array element wise manipulation \n",
    "\n",
    "a=np.array([1,2,3,4])\n",
    "b=np.array([5,4,3,2])\n",
    "\n",
    "c=a*b\n",
    "\n",
    "print(f\"the multiplication of {a} and {b} is \")\n",
    "print(c)\n",
    "\n",
    "# array broadcasting in a single dimesioal arrray \n",
    "\n",
    "a1=np.array([1,2,3,4])\n",
    "\n",
    "b=3\n",
    "\n",
    "print(\"Original array\")\n",
    "print(a1)\n",
    "\n",
    "c=a1+b\n",
    "\n",
    "print(f\"After adding {b} to {a1} it becomes \")\n",
    "print(c)\n"
   ]
  }
 ],
 "metadata": {
  "kernelspec": {
   "display_name": "Python 3",
   "language": "python",
   "name": "python3"
  },
  "language_info": {
   "codemirror_mode": {
    "name": "ipython",
    "version": 3
   },
   "file_extension": ".py",
   "mimetype": "text/x-python",
   "name": "python",
   "nbconvert_exporter": "python",
   "pygments_lexer": "ipython3",
   "version": "3.12.0"
  }
 },
 "nbformat": 4,
 "nbformat_minor": 2
}
