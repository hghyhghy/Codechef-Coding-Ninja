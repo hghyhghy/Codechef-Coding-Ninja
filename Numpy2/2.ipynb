{
 "cells": [
  {
   "cell_type": "code",
   "execution_count": 7,
   "metadata": {},
   "outputs": [
    {
     "name": "stdout",
     "output_type": "stream",
     "text": [
      "The original matrix is  [[1 2 3]\n",
      " [4 5 6]]\n",
      "After appending one element  at [[1 2 3]\n",
      " [4 5 6]] it becomes \n",
      "[1 2 3 4 5 6 7]\n",
      "The second array is  [[12 23 34]\n",
      " [45 56 67]]\n",
      "After appending [[12 23 34]\n",
      " [45 56 67]] to [1 2 3 4 5 6 7] it becomes\n",
      "[ 1  2  3  4  5  6  7 12 23 34 45 56 67]\n"
     ]
    },
    {
     "ename": "TypeError",
     "evalue": "Field elements must be 2- or 3-tuples, got '3'",
     "output_type": "error",
     "traceback": [
      "\u001b[1;31m---------------------------------------------------------------------------\u001b[0m",
      "\u001b[1;31mTypeError\u001b[0m                                 Traceback (most recent call last)",
      "Cell \u001b[1;32mIn[7], line 26\u001b[0m\n\u001b[0;32m     22\u001b[0m \u001b[38;5;28mprint\u001b[39m(a)\n\u001b[0;32m     24\u001b[0m \u001b[38;5;66;03m# concatenation of two array \u001b[39;00m\n\u001b[1;32m---> 26\u001b[0m ar1\u001b[38;5;241m=\u001b[39m\u001b[43mnp\u001b[49m\u001b[38;5;241;43m.\u001b[39;49m\u001b[43marray\u001b[49m\u001b[43m(\u001b[49m\u001b[43m[\u001b[49m\u001b[38;5;241;43m1\u001b[39;49m\u001b[43m,\u001b[49m\u001b[38;5;241;43m2\u001b[39;49m\u001b[43m]\u001b[49m\u001b[43m,\u001b[49m\u001b[43m[\u001b[49m\u001b[38;5;241;43m3\u001b[39;49m\u001b[43m,\u001b[49m\u001b[38;5;241;43m4\u001b[39;49m\u001b[43m]\u001b[49m\u001b[43m)\u001b[49m\n\u001b[0;32m     27\u001b[0m ar2\u001b[38;5;241m=\u001b[39mnp\u001b[38;5;241m.\u001b[39marray([[\u001b[38;5;241m2\u001b[39m,\u001b[38;5;241m3\u001b[39m]])\n\u001b[0;32m     29\u001b[0m combined \u001b[38;5;241m=\u001b[39m np\u001b[38;5;241m.\u001b[39mconcatenate((ar1,ar2),axis\u001b[38;5;241m=\u001b[39m\u001b[38;5;241m0\u001b[39m)\n",
      "\u001b[1;31mTypeError\u001b[0m: Field elements must be 2- or 3-tuples, got '3'"
     ]
    }
   ],
   "source": [
    "import numpy as np\n",
    "\n",
    "a= np.array([[1,2,3],[4,5,6]])\n",
    "\n",
    "print('The original matrix is ', a)\n",
    "\n",
    "# appending element \n",
    "\n",
    "print(f\"After appending one element  at {a} it becomes \")\n",
    "a=np.append(a,[7])\n",
    "\n",
    "print(a)\n",
    "\n",
    "# appending one array into other \n",
    "\n",
    "b=np.array([[12,23,34],[45,56,67]])\n",
    "\n",
    "print(\"The second array is \", b)\n",
    "\n",
    "print(f\"After appending {b} to {a} it becomes\")\n",
    "a= np.append(a,b)\n",
    "print(a)\n",
    "\n",
    "# concatenation of two array \n",
    "\n",
    "ar1=np.array([1,2],[3,4])\n",
    "ar2=np.array([[2,3]])\n",
    "\n",
    "combined = np.concatenate((ar1,ar2),axis=0)\n",
    "\n",
    "print(f\"After combination of {ar1} and {ar2} \", combined)"
   ]
  }
 ],
 "metadata": {
  "kernelspec": {
   "display_name": "Python 3",
   "language": "python",
   "name": "python3"
  },
  "language_info": {
   "codemirror_mode": {
    "name": "ipython",
    "version": 3
   },
   "file_extension": ".py",
   "mimetype": "text/x-python",
   "name": "python",
   "nbconvert_exporter": "python",
   "pygments_lexer": "ipython3",
   "version": "3.12.0"
  }
 },
 "nbformat": 4,
 "nbformat_minor": 2
}
