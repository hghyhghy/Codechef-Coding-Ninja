{
 "cells": [
  {
   "cell_type": "code",
   "execution_count": 5,
   "metadata": {},
   "outputs": [
    {
     "name": "stdout",
     "output_type": "stream",
     "text": [
      "[[ 4  5]\n",
      " [ 8 10]\n",
      " [12 15]]\n",
      "[[2 4 6]\n",
      " [5 7 9]]\n",
      "The transport version of the two mnatrix are \n",
      "[[ 5  6  7]\n",
      " [ 9 10 11]]\n",
      "[[ 2  4  6]\n",
      " [ 8 10 12]]\n"
     ]
    }
   ],
   "source": [
    "import numpy as np\n",
    "\n",
    "v= np.array([1,2,3])\n",
    "w=np.array([4,5])\n",
    "\n",
    "# reshaping the array \n",
    "\n",
    "print(np.reshape(v,(3,1))*w)\n",
    "\n",
    "x= np.array([[1,2,3],[4,5,6]])\n",
    "\n",
    "# adding two matrix\n",
    "\n",
    "print(x+v)\n",
    "\n",
    "print(\"The transport version of the two mnatrix are \")\n",
    "\n",
    "print((x.T + w).T)\n",
    "\n",
    "print(x*2)"
   ]
  }
 ],
 "metadata": {
  "kernelspec": {
   "display_name": "Python 3",
   "language": "python",
   "name": "python3"
  },
  "language_info": {
   "codemirror_mode": {
    "name": "ipython",
    "version": 3
   },
   "file_extension": ".py",
   "mimetype": "text/x-python",
   "name": "python",
   "nbconvert_exporter": "python",
   "pygments_lexer": "ipython3",
   "version": "3.12.0"
  }
 },
 "nbformat": 4,
 "nbformat_minor": 2
}
