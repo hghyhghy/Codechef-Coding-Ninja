{
 "cells": [
  {
   "cell_type": "code",
   "execution_count": 10,
   "metadata": {},
   "outputs": [
    {
     "name": "stdout",
     "output_type": "stream",
     "text": [
      "[1 2 3 4 5 6 7 8 9]\n",
      "original array is  [[ 1  2  3  4  5  6]\n",
      " [ 7  8  9 10 11 12]]\n",
      "Array to be appended column wise  [[ 5  6  7  8  9 10]]\n",
      "After appending  [[ 1  2  3  4  5  6]\n",
      " [ 7  8  9 10 11 12]\n",
      " [ 5  6  7  8  9 10]]\n",
      "Newly created array  is  [[ 0  1  2]\n",
      " [ 3  4  5]\n",
      " [ 6  7  8]\n",
      " [ 9 10 11]]\n",
      "After swapping it becomes  [[ 2  1  0]\n",
      " [ 5  4  3]\n",
      " [ 8  7  6]\n",
      " [11 10  9]]\n"
     ]
    }
   ],
   "source": [
    "# appending matrix using list comprehension \n",
    "\n",
    "import numpy as np\n",
    "\n",
    "arr= np.array([1,2,3,4,5])\n",
    "\n",
    "append =[ np.array([6,7]) , np.array([8,9])]\n",
    "\n",
    "combined = np.concatenate([arr] + append)\n",
    "print(combined)\n",
    "\n",
    "a=np.arange(1,13).reshape(2,6)\n",
    "print(\"original array is \", a)\n",
    "\n",
    "# column wise reshaping \n",
    "\n",
    "cols = np.arange(5,11).reshape(1,6)\n",
    "\n",
    "print(\"Array to be appended column wise \", cols)\n",
    "\n",
    "arr_col = np.append(a,cols,axis=0)\n",
    "\n",
    "print(\"After appending \", arr_col)\n",
    "\n",
    "# swapping columns \n",
    "\n",
    "myarray = np.arange(12).reshape(4,3)\n",
    "\n",
    "print(\"Newly created array  is \", myarray)\n",
    "\n",
    "myarray[:,[2,0]] = myarray[:,[0,2]]\n",
    "\n",
    "print(\"After swapping it becomes \", myarray)"
   ]
  }
 ],
 "metadata": {
  "kernelspec": {
   "display_name": "Python 3",
   "language": "python",
   "name": "python3"
  },
  "language_info": {
   "codemirror_mode": {
    "name": "ipython",
    "version": 3
   },
   "file_extension": ".py",
   "mimetype": "text/x-python",
   "name": "python",
   "nbconvert_exporter": "python",
   "pygments_lexer": "ipython3",
   "version": "3.12.0"
  }
 },
 "nbformat": 4,
 "nbformat_minor": 2
}
