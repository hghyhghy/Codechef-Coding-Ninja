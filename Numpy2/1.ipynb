{
 "cells": [
  {
   "cell_type": "code",
   "execution_count": 9,
   "metadata": {},
   "outputs": [
    {
     "name": "stdout",
     "output_type": "stream",
     "text": [
      "The original list is [1, 2, [3, 5], 4]\n",
      "Id of l2 is  2728193382720 Value of l2 is  [1, 2, [3, 5], 4]\n",
      "The deepcopy version of [1, 2, [3, 5], 4] is  [1, 2, [3, 5], 4]\n",
      "The id of [1, 2, [3, 5], 4] is  2728192987520\n",
      "1,2,[3, 5],4,The deepcopy version of [1, 2, [3, 5], 4] is  [1, 2, [3, 5], 4]\n",
      "After manipulating [1, 2, [3, 5], 4] it becomes  [1, 2, [7, 5], 4]\n"
     ]
    }
   ],
   "source": [
    "import copy\n",
    "\n",
    "# shallow copy in python \n",
    "\n",
    "l1= [1,2,[3,5],4]\n",
    "print(\"The original list is\", l1)\n",
    "\n",
    "l2 = copy.copy(l1)\n",
    "\n",
    "print(\"Id of l2 is \", id(l2), \"Value of l2 is \", l2)\n",
    "\n",
    "# deepcopy \n",
    "\n",
    "li3 = copy.deepcopy(l1)\n",
    "\n",
    "print(f\"The deepcopy version of {l1} is \", li3)\n",
    "print(f\"The id of {li3} is \", id(li3))\n",
    "\n",
    "# manipulating eleements in an  list \n",
    "\n",
    "li2 = copy.deepcopy(l1)\n",
    "\n",
    "for x in range(0,len(l1)):\n",
    "\n",
    "    print(l1[x], end=\",\")\n",
    "\n",
    "print(f\"The deepcopy version of {l1} is \", li2)\n",
    "\n",
    "li2[2][0] = 7\n",
    "\n",
    "print(f\"After manipulating {l1} it becomes \", li2)"
   ]
  },
  {
   "cell_type": "markdown",
   "metadata": {},
   "source": [
    "manipulating elements \n"
   ]
  }
 ],
 "metadata": {
  "kernelspec": {
   "display_name": "Python 3",
   "language": "python",
   "name": "python3"
  },
  "language_info": {
   "codemirror_mode": {
    "name": "ipython",
    "version": 3
   },
   "file_extension": ".py",
   "mimetype": "text/x-python",
   "name": "python",
   "nbconvert_exporter": "python",
   "pygments_lexer": "ipython3",
   "version": "3.12.0"
  }
 },
 "nbformat": 4,
 "nbformat_minor": 2
}
