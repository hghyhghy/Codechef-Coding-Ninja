{
 "cells": [
  {
   "cell_type": "code",
   "execution_count": 8,
   "metadata": {},
   "outputs": [
    {
     "name": "stdout",
     "output_type": "stream",
     "text": [
      "arr=[ 1 10  3  4  5  6]\n",
      "i=(array([2], dtype=int64),)\n",
      "The sorted array is  \n",
      "[ 1  3  4  5  6 10]\n",
      "After sorting [[12 15]\n",
      " [ 8 99]] it becomes  \n",
      "[[ 8 15]\n",
      " [12 99]]\n",
      "[[10 15]\n",
      " [ 1 12]]\n"
     ]
    }
   ],
   "source": [
    "# soting and searching in numpy array \n",
    "import numpy as np\n",
    "\n",
    "arr= np.array([1,10,3,4,5,6])\n",
    "\n",
    "print(\"arr={}\".format(arr))\n",
    "\n",
    "# looking for  the given value \n",
    "\n",
    "i = np.where(arr == 3)\n",
    "\n",
    "print(\"i={}\".format(i))\n",
    "\n",
    "# sorting in numpy \n",
    "\n",
    "arr.sort()\n",
    "\n",
    "print(\"The sorted array is  \")\n",
    "\n",
    "print(arr)\n",
    "\n",
    "# sorting array in axis 0\n",
    "\n",
    "a= np.array([[12,15],[8,99]])\n",
    "\n",
    "arr1= np.sort(a,axis=0)\n",
    "\n",
    "print(f\"After sorting {a} it becomes  \")\n",
    "\n",
    "print(arr1)\n",
    "\n",
    "a = np.array([[10, 15], [12, 1]]) \n",
    "\n",
    "# sort along with last axis \n",
    "arr2 = np.sort(a,axis=-1)\n",
    "\n",
    "print(arr2)"
   ]
  }
 ],
 "metadata": {
  "kernelspec": {
   "display_name": "Python 3",
   "language": "python",
   "name": "python3"
  },
  "language_info": {
   "codemirror_mode": {
    "name": "ipython",
    "version": 3
   },
   "file_extension": ".py",
   "mimetype": "text/x-python",
   "name": "python",
   "nbconvert_exporter": "python",
   "pygments_lexer": "ipython3",
   "version": "3.12.0"
  }
 },
 "nbformat": 4,
 "nbformat_minor": 2
}
