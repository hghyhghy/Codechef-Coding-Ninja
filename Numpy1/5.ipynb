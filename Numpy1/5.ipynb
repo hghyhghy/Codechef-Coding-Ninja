{
 "cells": [
  {
   "cell_type": "code",
   "execution_count": 4,
   "metadata": {},
   "outputs": [
    {
     "name": "stdout",
     "output_type": "stream",
     "text": [
      "First array [[4 7]\n",
      " [5 6]]\n",
      "Second array [[2 1]\n",
      " [3 2]]\n",
      "Addition of array [[4 7]\n",
      " [5 6]] and [[2 1]\n",
      " [3 2]] is  [[6 8]\n",
      " [8 8]]\n",
      "Square root of [[4 7]\n",
      " [5 6]] is\n",
      "[[2.         2.64575131]\n",
      " [2.23606798 2.44948974]]\n"
     ]
    }
   ],
   "source": [
    "import numpy as np\n",
    "\n",
    "# creating an arry\n",
    "\n",
    "arr1= np.array([[4,7],[5,6]])\n",
    "print(\"First array\", arr1)\n",
    "\n",
    "arr2 = np.array([[2,1],[3,2]])\n",
    "print(\"Second array\", arr2)\n",
    "\n",
    "sum = np.add(arr1,arr2)\n",
    "print(f\"Addition of array {arr1} and {arr2} is \", sum)\n",
    "\n",
    "# squareroot of arr1\n",
    "\n",
    "print(f\"Square root of {arr1} is\")\n",
    "sqrt = np.sqrt(arr1)\n",
    "\n",
    "print(sqrt)"
   ]
  }
 ],
 "metadata": {
  "kernelspec": {
   "display_name": "Python 3",
   "language": "python",
   "name": "python3"
  },
  "language_info": {
   "codemirror_mode": {
    "name": "ipython",
    "version": 3
   },
   "file_extension": ".py",
   "mimetype": "text/x-python",
   "name": "python",
   "nbconvert_exporter": "python",
   "pygments_lexer": "ipython3",
   "version": "3.12.0"
  }
 },
 "nbformat": 4,
 "nbformat_minor": 2
}
