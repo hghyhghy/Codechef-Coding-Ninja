{
 "cells": [
  {
   "cell_type": "code",
   "execution_count": 8,
   "metadata": {},
   "outputs": [
    {
     "name": "stdout",
     "output_type": "stream",
     "text": [
      "New matrix is  [[0 1 2 3 4]\n",
      " [5 6 7 8 9]]\n",
      "0\n",
      "1\n",
      "2\n",
      "3\n",
      "4\n",
      "5\n",
      "6\n",
      "7\n",
      "8\n",
      "9\n",
      "0\n",
      "5\n",
      "1\n",
      "6\n",
      "2\n",
      "7\n",
      "3\n",
      "8\n",
      "4\n",
      "9\n"
     ]
    }
   ],
   "source": [
    "import numpy as np\n",
    "\n",
    "# arranging in c order \n",
    "a= np.arange(10)\n",
    "\n",
    "a=a.reshape(2,5)\n",
    "\n",
    "print(\"New matrix is \", a)\n",
    "\n",
    "# iterating over array \n",
    "for x in np.nditer(a,order='C'):\n",
    "\n",
    "    print(x)\n",
    "\n",
    "# arranging through F order\n",
    "\n",
    "for y in np.nditer(a,order='F'):\n",
    "\n",
    "    print(y)"
   ]
  }
 ],
 "metadata": {
  "kernelspec": {
   "display_name": "Python 3",
   "language": "python",
   "name": "python3"
  },
  "language_info": {
   "codemirror_mode": {
    "name": "ipython",
    "version": 3
   },
   "file_extension": ".py",
   "mimetype": "text/x-python",
   "name": "python",
   "nbconvert_exporter": "python",
   "pygments_lexer": "ipython3",
   "version": "3.12.0"
  }
 },
 "nbformat": 4,
 "nbformat_minor": 2
}
