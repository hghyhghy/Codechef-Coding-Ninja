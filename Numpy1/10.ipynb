{
 "cells": [
  {
   "cell_type": "code",
   "execution_count": 2,
   "metadata": {},
   "outputs": [
    {
     "name": "stdout",
     "output_type": "stream",
     "text": [
      "Id of the array [2 3 5 6] is  2279468007024\n",
      "Id of the view is  2279573478096\n",
      "original array-  [12  3  5  6]\n",
      "view-  [12  3  5  6]\n",
      "The copied matrix is  [12  3  5  6]\n"
     ]
    }
   ],
   "source": [
    "import numpy as np\n",
    "\n",
    "arr =np.array([2,3,5,6])\n",
    "\n",
    "v = arr.view()\n",
    "\n",
    "print(f\"Id of the array {arr} is \", id(arr) )\n",
    "\n",
    "print(f\"Id of the view is \", id(v))\n",
    "\n",
    "arr[0] = 12\n",
    "\n",
    "print(\"original array- \", arr)  \n",
    "print(\"view- \", v)\n",
    "\n",
    "# copying array to another \n",
    "\n",
    "c= arr.copy()\n",
    "\n",
    "print(\"The copied matrix is \", c)"
   ]
  }
 ],
 "metadata": {
  "kernelspec": {
   "display_name": "Python 3",
   "language": "python",
   "name": "python3"
  },
  "language_info": {
   "codemirror_mode": {
    "name": "ipython",
    "version": 3
   },
   "file_extension": ".py",
   "mimetype": "text/x-python",
   "name": "python",
   "nbconvert_exporter": "python",
   "pygments_lexer": "ipython3",
   "version": "3.12.0"
  }
 },
 "nbformat": 4,
 "nbformat_minor": 2
}
