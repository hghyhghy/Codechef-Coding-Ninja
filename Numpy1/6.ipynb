{
 "cells": [
  {
   "cell_type": "code",
   "execution_count": 2,
   "metadata": {},
   "outputs": [
    {
     "name": "stdout",
     "output_type": "stream",
     "text": [
      "New  matrix [[1 2]\n",
      " [3 4]]\n",
      "The transpose of the matrix [[1 2]\n",
      " [3 4]] is \n",
      "[[1 3]\n",
      " [2 4]]\n"
     ]
    }
   ],
   "source": [
    "import  numpy as np\n",
    "\n",
    "# creating an array \n",
    "arr1= np.array([[1,2],[3,4]])\n",
    "\n",
    "print(\"New  matrix\",arr1)\n",
    "\n",
    "print(f\"The transpose of the matrix {arr1} is \")\n",
    "t = arr1.T\n",
    "print(t)\n"
   ]
  }
 ],
 "metadata": {
  "kernelspec": {
   "display_name": "Python 3",
   "language": "python",
   "name": "python3"
  },
  "language_info": {
   "codemirror_mode": {
    "name": "ipython",
    "version": 3
   },
   "file_extension": ".py",
   "mimetype": "text/x-python",
   "name": "python",
   "nbconvert_exporter": "python",
   "pygments_lexer": "ipython3",
   "version": "3.12.0"
  }
 },
 "nbformat": 4,
 "nbformat_minor": 2
}
