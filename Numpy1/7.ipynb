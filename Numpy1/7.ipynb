{
 "cells": [
  {
   "cell_type": "code",
   "execution_count": 8,
   "metadata": {},
   "outputs": [
    {
     "name": "stdout",
     "output_type": "stream",
     "text": [
      "New matrix is [[ 0  1  2  3]\n",
      " [ 4  5  6  7]\n",
      " [ 8  9 10 11]]\n",
      "0\n",
      "1\n",
      "2\n",
      "3\n",
      "4\n",
      "5\n",
      "6\n",
      "7\n",
      "8\n",
      "9\n",
      "10\n",
      "11\n",
      "The transpose of the matrix [[3 4]\n",
      " [4 5]\n",
      " [7 8]] is\n",
      "[[3 4 7]\n",
      " [4 5 8]]\n",
      "3\n",
      "4\n",
      "4\n",
      "5\n",
      "7\n",
      "8\n"
     ]
    }
   ],
   "source": [
    "import numpy as np\n",
    "\n",
    "a=np.arange(12)\n",
    "\n",
    "a=a.reshape(3,4)\n",
    "\n",
    "print(\"New matrix is\", a)\n",
    "\n",
    "# iterating through the array \n",
    "\n",
    "for x in np.nditer(a):\n",
    "    \n",
    "    print(x)\n",
    "\n",
    "# transposing and ioterating through them \n",
    "a1 = np.array([[3,4],[4,5],[7,8]])\n",
    "\n",
    "print(f\"The transpose of the matrix {a1} is\")\n",
    "print(a1.T)\n",
    "\n",
    "for y in np.nditer(a1):\n",
    "\n",
    "    print(y)\n"
   ]
  }
 ],
 "metadata": {
  "kernelspec": {
   "display_name": "Python 3",
   "language": "python",
   "name": "python3"
  },
  "language_info": {
   "codemirror_mode": {
    "name": "ipython",
    "version": 3
   },
   "file_extension": ".py",
   "mimetype": "text/x-python",
   "name": "python",
   "nbconvert_exporter": "python",
   "pygments_lexer": "ipython3",
   "version": "3.12.0"
  }
 },
 "nbformat": 4,
 "nbformat_minor": 2
}
